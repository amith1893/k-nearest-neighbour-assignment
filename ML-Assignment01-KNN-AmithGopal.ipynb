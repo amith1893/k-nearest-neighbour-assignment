{
 "cells": [
  {
   "cell_type": "markdown",
   "metadata": {},
   "source": [
    "# K-Nearest Neighbors Homework Solutions\n",
    "***\n",
    "**Name**: **Amith Gopal**\n",
    "***\n",
    "\n",
    "This assignment is due on Moodle by **5pm on Friday January 26th**. Submit only this Jupyter notebook to Moodle.  Do not compress it using tar, rar, zip, etc. Your solutions to analysis questions should be done in Markdown directly below the associated question.  Remember that you are encouraged to discuss the problems with your instructors and classmates, but **you must write all code and solutions on your own**.  For a refresher on the course **Collaboration Policy** click [here](https://github.com/chrisketelsen/CSCI5622-Machine-Learning/blob/master/resources/syllabus.md#collaboration-policy)\n",
    "\n"
   ]
  },
  {
   "cell_type": "markdown",
   "metadata": {},
   "source": [
    "## Overview \n",
    "***\n",
    "\n",
    "\n",
    "In this homework you'll implement a K-Nearest Neighbor framework to take an image of a handwritten digit and predict which digit it corresponds to.  \n",
    "\n",
    "<br>\n",
    "\n",
    "![Samples of Handwritten Digits](wide_mnist.png \"MNIST Digits\")\n",
    "\n",
    "\n",
    "<br>\n",
    "\n",
    "This homework is designed to be pretty easy. If you're spending a ton of time on this assignment, then you are either:\n",
    "\n",
    "- not prepared to take this course (i.e., if you're struggling with Python)\n",
    "- seriously over-thinking the assignment\n",
    "- trying to implement too much of KNN from scratch\n",
    "\n",
    "\n",
    "Most of this assignment will be done by calling libraries that are already implemented for you. If you are implementing $n$-dimensional search or your own distance metrics, you are generating extra work for yourself and making yourself vulnerable to errors. \n",
    "\n",
    "Here are the rules: \n",
    "\n",
    "- Do **NOT** load or use any Python packages that are not available in Anaconda 3.6. \n",
    "- Some problems with code may be autograded.  If we provide a function or class API **do not** change it.\n",
    "- Do not change the location of the data or data directory.  Use only relative paths to access the data. "
   ]
  },
  {
   "cell_type": "code",
   "execution_count": 97,
   "metadata": {
    "collapsed": true
   },
   "outputs": [],
   "source": [
    "import numpy as np\n",
    "import matplotlib.pylab as plt\n",
    "%matplotlib inline "
   ]
  },
  {
   "cell_type": "markdown",
   "metadata": {},
   "source": [
    "### [5 points] Problem 1\n",
    "***\n",
    "\n",
    "The class below will load and store the MNIST data.  Load the data and then report: \n",
    "- The number of examples in the training set \n",
    "- The number of examples in the test set \n",
    "- The number of pixels in each image. "
   ]
  },
  {
   "cell_type": "code",
   "execution_count": 98,
   "metadata": {
    "collapsed": true
   },
   "outputs": [],
   "source": [
    "class Numbers:\n",
    "    \"\"\"\n",
    "    Class to store MNIST data\n",
    "    \"\"\"\n",
    "    def __init__(self, location):\n",
    "\n",
    "        import pickle, gzip\n",
    "\n",
    "        # load data from file \n",
    "        f = gzip.open(location, 'rb')\n",
    "        train_set, valid_set, test_set = pickle.load(f)\n",
    "        f.close()\n",
    "\n",
    "        print(\"The number of examples in the training set : \", len(train_set[0]))\n",
    "        print(\"The number of examples in the test set : \", len(test_set[0]))\n",
    "        print(\"The number of pixels in each image : \", len(train_set[0][0]))\n",
    "        # store for use later  \n",
    "        self.train_x, self.train_y = train_set\n",
    "        self.test_x, self.test_y = valid_set"
   ]
  },
  {
   "cell_type": "code",
   "execution_count": 99,
   "metadata": {
    "scrolled": false
   },
   "outputs": [
    {
     "name": "stdout",
     "output_type": "stream",
     "text": [
      "The number of examples in the training set :  50000\n",
      "The number of examples in the test set :  10000\n",
      "The number of pixels in each image :  784\n"
     ]
    }
   ],
   "source": [
    "data = Numbers(\"../data/mnist.pklz\")"
   ]
  },
  {
   "cell_type": "markdown",
   "metadata": {},
   "source": [
    "### [30 points] Problem 2\n",
    "***\n",
    "\n",
    "The class below will perform K-Nearest Neighbor classification on our handwritten digit data. Your tasks are as follows:   \n",
    "\n",
    "1. Modify the `label_counts` function to return a dictionary of frequencies corresponding to each label in the training set. \n",
    "1. Modify the `majority` function so that it returns the _label_ that appears most frequently in the $K$-nearest neighbors of the query point.  In the case that the maximum frequency occurs for two or more labels, return the one that appears most frequently in the entire training set. In the case that there is still a tie, break the tie in any way that you choose. \n",
    "1. Modify the `classify` function so that it finds the _indices_ of the $K$ closest training examples to the query point and then calls the `majority` function to return the predicted label. Almost all of the heavy lifting here will be done by the BallTree object from `sklearn.neighbors`, so you'll want to start out by reading the [documentation](http://scikit-learn.org/stable/modules/generated/sklearn.neighbors.BallTree.html).  \n",
    "1. Modify the `confusion_matrix` function to classify examples and record the results in a confusion matrix. You should construct the confusion matrix on your own.  Don't call any additional functions from sklearn to do it for you.\n",
    "\n",
    "The class Knearest also implements an `accuracy` function which you will use in **Problem 3**.  You should not have to modify this function. \n",
    "\n",
    "We've given you unit tests down below based on the simple example worked out in lecture.  At first your code will fail all of them.  Do not move on to **Problem 3** until your code passes all of the unit tests. In addition, passing the unit tests does not guarantee that your implementation is robust and that you'll earn full points on this problem.  You should be designing your own additional tests as well. "
   ]
  },
  {
   "cell_type": "code",
   "execution_count": 100,
   "metadata": {
    "collapsed": true
   },
   "outputs": [],
   "source": [
    "class Knearest:\n",
    "    \"\"\"\n",
    "    kNN classifier\n",
    "    \"\"\"\n",
    "\n",
    "    def __init__(self, X, y, k=5):\n",
    "        \"\"\"\n",
    "        Creates a kNN instance\n",
    "\n",
    "        :param x: Training data input\n",
    "        :param y: Training data output\n",
    "        :param k: The number of nearest points to consider in classification\n",
    "        \"\"\"\n",
    "        \n",
    "        from sklearn.neighbors import BallTree\n",
    "\n",
    "        self._kdtree = BallTree(X)\n",
    "        self._y = y\n",
    "        self._k = k\n",
    "        self._counts = self.label_counts()\n",
    "        \n",
    "    def label_counts(self):\n",
    "        \"\"\"\n",
    "        Given the training labels, return a dictionary d where d[y] is  \n",
    "        the number of times that label y appears in the training set. \n",
    "        \"\"\"\n",
    "        d = {}\n",
    "        for l in self._y:\n",
    "            if l not in d:\n",
    "                d[l] = 1\n",
    "            else:\n",
    "                d[l] += 1\n",
    "            \n",
    "        #return dict({1:0, -1:0})\n",
    "        return d\n",
    "    \n",
    "    def majority(self, neighbor_indices):\n",
    "        \"\"\"\n",
    "        Given the indices of training examples, return the majority label. Break ties \n",
    "        by choosing the tied label that appears most often in the training data. \n",
    "\n",
    "        :param neighbor_indices: The indices of the k nearest neighbors\n",
    "        \"\"\"\n",
    "        assert len(neighbor_indices) == self._k, \"Did not get k neighbor indices\"\n",
    "        #print(neighbor_indices)\n",
    "        \n",
    "        majority_dict = {}\n",
    "        for n in neighbor_indices:\n",
    "            label = self._y[n]\n",
    "            #print(label)\n",
    "            if label not in majority_dict:\n",
    "                majority_dict[label] = []\n",
    "                majority_dict[label].append(n)\n",
    "            else:\n",
    "                majority_dict[label].append(n)\n",
    "        \n",
    "        #till here, maintained a majority dict which will store the \n",
    "        #key as the label and all the values as a list of the neighbors\n",
    "        #problem is to return the majority label\n",
    "        \n",
    "        max_len = 0\n",
    "        for k in majority_dict:\n",
    "            if len(majority_dict[k]) > max_len:\n",
    "                max_len = len(majority_dict[k])\n",
    "        \n",
    "        \n",
    "        \n",
    "        #print(\"MAX LEN\", max_len)\n",
    "        #print(majority_dict)\n",
    "        \n",
    "        majority_label_list = []\n",
    "        for k in majority_dict:\n",
    "            if len(majority_dict[k]) == max_len:\n",
    "                majority_label_list.append(k)\n",
    "        \n",
    "        if len(majority_label_list) == 1:\n",
    "#             print(majority_label_list[0])\n",
    "            return majority_label_list[0]\n",
    "        else:\n",
    "            max_label = None\n",
    "            max_label_count = 0\n",
    "            #print(majority_label_list)\n",
    "            for ml in majority_label_list:\n",
    "                if self._counts[ml] > max_label_count:\n",
    "                    max_label_count = self._counts[ml]\n",
    "                    max_label = ml\n",
    "            #print(max_label)\n",
    "            return max_label\n",
    "                    \n",
    "        #return self._y[neighbor_indices[0]]\n",
    "    \n",
    "\n",
    "    def classify(self, example):\n",
    "        \"\"\"\n",
    "        Given an example, return the predicted label. \n",
    "\n",
    "        :param example: A representation of an example in the same\n",
    "        format as a row of the training data\n",
    "        \"\"\"\n",
    "        dist, indices = self._kdtree.query([example], self._k)\n",
    "        #print(indices)\n",
    "        return self.majority(indices[0])\n",
    "        #return self.majority([np.random.randint(0,10) for ii in range(self._k)])\n",
    "\n",
    "\n",
    "    def confusion_matrix(self, test_x, test_y):\n",
    "        \"\"\"\n",
    "        Given a matrix of test examples and labels, compute the confusion\n",
    "        matrix for the current classifier.  Should return a 2-dimensional\n",
    "        numpy array of ints, C, where C[ii,jj] is the number of times an \n",
    "        example with true label ii was labeled as jj.\n",
    "\n",
    "        :param test_x: test data \n",
    "        :param test_y: true test labels \n",
    "        \"\"\"\n",
    "        \n",
    "        C = np.zeros((10,10), dtype=int)\n",
    "        count=0\n",
    "        for xx, yy in zip(test_x, test_y):\n",
    "            res_label = self.classify(xx)\n",
    "            C[yy][res_label] += 1\n",
    "            \n",
    "            '''\n",
    "            if yy == 2 and res_label == 7:\n",
    "                print(\"2 and 7: \", count)\n",
    "            if yy == 4 and res_label == 9:\n",
    "                print(\"4 and 9: \", count)\n",
    "            if yy == 8 and res_label == 3:\n",
    "                print(\"8 and 3: \", count)     \n",
    "            count += 1\n",
    "            '''\n",
    "             \n",
    "        return C \n",
    "            \n",
    "    @staticmethod\n",
    "    def accuracy(C):\n",
    "        \"\"\"\n",
    "        Given a confusion matrix C, compute the accuracy of the underlying classifier.\n",
    "        \n",
    "        :param C: a confusion matrix \n",
    "        \"\"\"\n",
    "        \n",
    "        return np.sum(C.diagonal()) / C.sum()\n",
    "        "
   ]
  },
  {
   "cell_type": "markdown",
   "metadata": {},
   "source": [
    "Here are the unit tests.  You don't need to modify them.  Simply execute the cell and observe the output. "
   ]
  },
  {
   "cell_type": "code",
   "execution_count": 101,
   "metadata": {
    "scrolled": true
   },
   "outputs": [
    {
     "name": "stderr",
     "output_type": "stream",
     "text": [
      "....\n",
      "----------------------------------------------------------------------\n",
      "Ran 4 tests in 0.005s\n",
      "\n",
      "OK\n"
     ]
    },
    {
     "data": {
      "text/plain": [
       "<unittest.runner.TextTestResult run=4 errors=0 failures=0>"
      ]
     },
     "execution_count": 101,
     "metadata": {},
     "output_type": "execute_result"
    }
   ],
   "source": [
    "import unittest\n",
    "\n",
    "class TestKnn(unittest.TestCase):\n",
    "    def setUp(self):\n",
    "        self.x = np.array([[2, 0], [4, 1], [6, 0], [1, 4], [2, 4], [2, 5], [4, 4], [0, 2], [3, 2], [4, 2], [5, 2], [5, 5]])\n",
    "        self.y = np.array([+1, +1, +1, +1, +1, +1, +1, -1, -1, -1, -1, -1])\n",
    "        self.knn = {}\n",
    "        for ii in [1, 2, 3]:\n",
    "            self.knn[ii] = Knearest(self.x, self.y, ii)\n",
    "\n",
    "        self.queries = np.array([[1, 5], [0, 3], [6, 4]])\n",
    "        \n",
    "    def test0(self):\n",
    "        \"\"\"\n",
    "        Test the label counter \n",
    "        \"\"\"\n",
    "        self.assertEqual(self.knn[1]._counts[-1], 5)\n",
    "        self.assertEqual(self.knn[1]._counts[1], 7)\n",
    "\n",
    "    def test1(self):\n",
    "        \"\"\"\n",
    "        Test 1NN\n",
    "        \"\"\"\n",
    "        self.assertEqual(self.knn[1].classify(self.queries[0]),  1)\n",
    "        self.assertEqual(self.knn[1].classify(self.queries[1]), -1)\n",
    "        self.assertEqual(self.knn[1].classify(self.queries[2]), -1)\n",
    "\n",
    "    def test2(self):\n",
    "        \"\"\"\n",
    "        Test 2NN\n",
    "        \"\"\"\n",
    "        #print(\"TEST 2 started\")\n",
    "        self.assertEqual(self.knn[2].classify(self.queries[0]),  1)\n",
    "        #print(\"TEST 2a over\")\n",
    "        self.assertEqual(self.knn[2].classify(self.queries[1]),  1)\n",
    "        self.assertEqual(self.knn[2].classify(self.queries[2]),  1)\n",
    "\n",
    "    def test3(self):\n",
    "        \"\"\"\n",
    "        Test 3NN\n",
    "        \"\"\"\n",
    "        self.assertEqual(self.knn[3].classify(self.queries[0]),  1)\n",
    "        self.assertEqual(self.knn[3].classify(self.queries[1]),  1)\n",
    "        self.assertEqual(self.knn[3].classify(self.queries[2]), -1)\n",
    "        \n",
    "tests = TestKnn()\n",
    "tests_to_run = unittest.TestLoader().loadTestsFromModule(tests)\n",
    "unittest.TextTestRunner().run(tests_to_run)"
   ]
  },
  {
   "cell_type": "markdown",
   "metadata": {},
   "source": [
    "### [15 points] Problem 3\n",
    "***\n",
    "\n",
    "In this problem you'll explore the performance of the classifier you've written.  A word of advice: don't use the entire training set, especially at first.  We'll be using this dataset again later on with techniques that scale better.    "
   ]
  },
  {
   "cell_type": "markdown",
   "metadata": {},
   "source": [
    "**Part A**: Explore the relationship between the number of training examples and accuracy on the test set. Comment on your findings and support your observations with some kind of graphic. "
   ]
  },
  {
   "cell_type": "code",
   "execution_count": 102,
   "metadata": {},
   "outputs": [
    {
     "name": "stdout",
     "output_type": "stream",
     "text": [
      "Training sample :  1000  and Accuracy :  0.8793\n",
      "Training sample :  5000  and Accuracy :  0.9377\n",
      "Training sample :  10000  and Accuracy :  0.9558\n",
      "Training sample :  15000  and Accuracy :  0.9544\n",
      "Training sample :  20000  and Accuracy :  0.9624\n",
      "Training sample :  25000  and Accuracy :  0.9622\n",
      "Training sample :  30000  and Accuracy :  0.9678\n",
      "Training sample :  35000  and Accuracy :  0.9677\n",
      "Training sample :  40000  and Accuracy :  0.9695\n",
      "Training sample :  45000  and Accuracy :  0.9692\n",
      "Training sample :  50000  and Accuracy :  0.9713\n"
     ]
    },
    {
     "data": {
      "image/png": "[encoded data removed]",
      "text/plain": [
       "<matplotlib.figure.Figure at 0x7f73fc35d4a8>"
      ]
     },
     "metadata": {},
     "output_type": "display_data"
    }
   ],
   "source": [
    "#number of training examples vs accuracy\n",
    "import random\n",
    "\n",
    "t_samples = [1000, 5000, 10000, 15000, 20000, 25000, 30000, 35000, 40000, 45000, 50000]\n",
    "accuracy_l = []\n",
    "\n",
    "for training_samples in t_samples:\n",
    "    random_indices = random.sample(range(0, 50000), training_samples)\n",
    "    #print(random_indices)\n",
    "    training_set_list = []\n",
    "    training_out_list = []\n",
    "    \n",
    "    training_set_list = data.train_x[random_indices, :]\n",
    "#     print(training_set_list)\n",
    "    training_out_list = data.train_y[random_indices]\n",
    "\n",
    "    \n",
    "    knn = Knearest (training_set_list, training_out_list)\n",
    "    \n",
    "    cm = knn.confusion_matrix(data.test_x, data.test_y)\n",
    "#     print(cm)\n",
    "    print(\"Training sample : \", training_samples, \" and Accuracy : \", knn.accuracy(cm))\n",
    "    accuracy_l.append(knn.accuracy(cm))\n",
    "    \n",
    "plt.plot(t_samples, accuracy_l)\n",
    "plt.xlabel(\"Training samples\")\n",
    "plt.ylabel(\"Accuracy\")\n",
    "plt.title(\"Accuracy vs Size of Training Samples\")\n",
    "plt.legend()\n",
    "plt.show()\n",
    "plt.close()\n",
    "\n",
    "\n",
    "        \n",
    "    \n",
    "\n",
    "\n",
    "\n",
    "\n"
   ]
  },
  {
   "cell_type": "markdown",
   "metadata": {},
   "source": [
    "We can observe from the graph that as the training samples increases, the accuracy also increases.\n",
    "The reason for this is that for lower training samples, the pixels covered in the 28 x 28 space will be less.\n",
    "As the training data increases, the pixel space is covered more and more points will be under consideration for the nearest neighbor which gives a better accuracy."
   ]
  },
  {
   "cell_type": "markdown",
   "metadata": {},
   "source": [
    "**Part B**: Explore the relationship between the number of nearest neighbors and accuracy on the test set. Comment on your findings and support your observations with some kind of graphic. "
   ]
  },
  {
   "cell_type": "code",
   "execution_count": 81,
   "metadata": {},
   "outputs": [
    {
     "name": "stdout",
     "output_type": "stream",
     "text": [
      "Accuracy :  0.9712\n",
      "Accuracy :  0.9642\n",
      "Accuracy :  0.9717\n",
      "Accuracy :  0.9702\n",
      "Accuracy :  0.9713\n",
      "Accuracy :  0.97\n",
      "Accuracy :  0.9713\n",
      "Accuracy :  0.9694\n",
      "Accuracy :  0.9704\n",
      "Accuracy :  0.9684\n",
      "Accuracy :  0.9658\n"
     ]
    },
    {
     "data": {
      "image/png": "[encoded data removed]",
      "text/plain": [
       "<matplotlib.figure.Figure at 0x7f73fc1d6128>"
      ]
     },
     "metadata": {},
     "output_type": "display_data"
    }
   ],
   "source": [
    "#KNN\n",
    "\n",
    "k_val_l = [1,2,3,4,5,6,7,8,9,10,15]\n",
    "accuracy_l = []\n",
    "\n",
    "for k_val in k_val_l:\n",
    "    knn = Knearest (data.train_x, data.train_y, k_val)\n",
    "    cm = knn.confusion_matrix(data.test_x, data.test_y)\n",
    "    print(\"'K' : \", k_val, \" and Accuracy : \", knn.accuracy(cm))\n",
    "    accuracy_l.append(knn.accuracy(cm))\n",
    "\n",
    "\n",
    "plt.plot(k_val_l, accuracy_l)\n",
    "plt.xlabel(\"'K' values\")\n",
    "plt.ylabel(\"Accuracy\")\n",
    "plt.title(\"Accuracy vs 'K' values\")\n",
    "plt.legend()\n",
    "plt.show()\n",
    "plt.close()\n"
   ]
  },
  {
   "cell_type": "markdown",
   "metadata": {},
   "source": [
    "We can observe from the graph that as the accuracy remains high for high values of k until a certain value which is 10. For K = 1, the accuracy is high since there is a lot of overfitting. The first closest image is chosen during training which in most of the cases is the right one. The least accuracy is observed for K = 2, the reason being that most of the times it's a tie in deciding which is the closest image which results in a decreased accuracy.\n",
    "\n",
    "On the other hand, large values of K results in a great generalisation which results in decreased accuracy as the images would not be bifurcated finely.\n",
    "\n",
    "Eventhough the accuracy becomes high for K > 2, the accuracy for even K values is always lesser than the odd K values. This is because of the occurence of the tie amongst the nearest neighbors and chosing the wrong neighbor."
   ]
  },
  {
   "cell_type": "markdown",
   "metadata": {},
   "source": [
    "**Part C**: Which numbers get confused with each other the most easily?  Use the confusion_matrix function that you wrote above to support your conclusion.  Then use the `view_digit` function given below to plot a few examples of misclassified digits and discuss possible reasons for the misclassifications.  (Investigating misclassified examples is called **error analysis** and is an important step in the development of any classification technique).  "
   ]
  },
  {
   "cell_type": "code",
   "execution_count": 82,
   "metadata": {},
   "outputs": [
    {
     "name": "stdout",
     "output_type": "stream",
     "text": [
      "true label: 5\n"
     ]
    },
    {
     "data": {
      "image/png": "[encoded data removed]",
      "text/plain": [
       "<matplotlib.figure.Figure at 0x7f73fc65c9e8>"
      ]
     },
     "metadata": {},
     "output_type": "display_data"
    }
   ],
   "source": [
    "def view_digit(example, label=None):\n",
    "    if label: print(\"true label: {:d}\".format(label))\n",
    "    plt.imshow(example.reshape(28,28), cmap='gray');\n",
    "    \n",
    "view_digit(data.train_x[0,:], data.train_y[0])"
   ]
  },
  {
   "cell_type": "code",
   "execution_count": 103,
   "metadata": {},
   "outputs": [
    {
     "name": "stdout",
     "output_type": "stream",
     "text": [
      "CONFUSION MATRIX :\n",
      "[[ 983    0    3    0    0    0    2    1    0    2]\n",
      " [   0 1060    1    0    1    0    1    1    0    0]\n",
      " [   3    9  953    2    1    1    1   17    1    2]\n",
      " [   0    0    3 1007    0    6    1    4    6    3]\n",
      " [   0   10    1    0  941    0    0    6    0   25]\n",
      " [   2    2    1   17    2  863   17    3    3    5]\n",
      " [   1    0    0    0    0    1  965    0    0    0]\n",
      " [   0   10    0    0    3    0    0 1070    0    7]\n",
      " [   3    8    1   15    4   13    4    5  947    9]\n",
      " [   3    3    0   10   11    2    0    7    1  924]]\n"
     ]
    }
   ],
   "source": [
    "knn = Knearest (data.train_x, data.train_y)\n",
    "cm = knn.confusion_matrix (data.test_x, data.test_y)\n",
    "print(\"CONFUSION MATRIX :\")\n",
    "print(cm)"
   ]
  },
  {
   "cell_type": "markdown",
   "metadata": {},
   "source": [
    "From the confusion matrix above, few of the following confusions are:\n",
    "1. Confusing 2 for 7\n",
    "2. Confusing 4 for 9"
   ]
  },
  {
   "cell_type": "code",
   "execution_count": 89,
   "metadata": {},
   "outputs": [
    {
     "name": "stdout",
     "output_type": "stream",
     "text": [
      "true label: 2\n"
     ]
    },
    {
     "data": {
      "image/png": "[encoded data removed]",
      "text/plain": [
       "<matplotlib.figure.Figure at 0x7f73fc6c6c18>"
      ]
     },
     "metadata": {},
     "output_type": "display_data"
    }
   ],
   "source": [
    "#Confusing 2 for 7\n",
    "view_digit(data.test_x[229, :], data.test_y[229])"
   ]
  },
  {
   "cell_type": "markdown",
   "metadata": {},
   "source": [
    "Here, 2 is getting confused for 7. The horizontal line of 2 is very short(number of points related to this is very less) and does not start at the end of the slant line of the 2 which makes it look more like 7."
   ]
  },
  {
   "cell_type": "code",
   "execution_count": 90,
   "metadata": {},
   "outputs": [
    {
     "name": "stdout",
     "output_type": "stream",
     "text": [
      "true label: 4\n"
     ]
    },
    {
     "data": {
      "image/png": "[encoded data removed]",
      "text/plain": [
       "<matplotlib.figure.Figure at 0x7f74280dbcf8>"
      ]
     },
     "metadata": {},
     "output_type": "display_data"
    }
   ],
   "source": [
    "#Confusing 4 for 9\n",
    "view_digit(data.test_x[712, :], data.test_y[712])"
   ]
  },
  {
   "cell_type": "markdown",
   "metadata": {},
   "source": [
    "Here, 4 is getting confused for 9. The upper part of this image must look like a triangle for this image to look like 4 but instead it's almost an oval. This causes the nearest neighbour of this image to be 9 since the upper portion of 9 is like an oval/circle."
   ]
  }
 ],
 "metadata": {
  "kernelspec": {
   "display_name": "Python 3",
   "language": "python",
   "name": "python3"
  },
  "language_info": {
   "codemirror_mode": {
    "name": "ipython",
    "version": 3
   },
   "file_extension": ".py",
   "mimetype": "text/x-python",
   "name": "python",
   "nbconvert_exporter": "python",
   "pygments_lexer": "ipython3",
   "version": "3.6.3"
  }
 },
 "nbformat": 4,
 "nbformat_minor": 2
}
